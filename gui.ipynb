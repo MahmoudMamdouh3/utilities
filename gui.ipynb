{
 "cells": [
  {
   "cell_type": "code",
   "execution_count": 3,
   "metadata": {},
   "outputs": [],
   "source": [
    "import PySimpleGUI as sg\n",
    "\n",
    "layout = [\n",
    "    [sg.Text(\"Enter your license code:\")],\n",
    "    [sg.Input(key='-LICENSE-', size=(50, 1))],\n",
    "    [sg.Button(\"Submit\"), sg.Button(\"Cancel\")]\n",
    "]\n",
    "\n",
    "window = sg.Window(\"License Activation\", layout)\n",
    "\n",
    "while True:\n",
    "    # Read events and values\n",
    "    event, values = window.read()\n",
    "    \n",
    "    # If the user closes the window or clicks Cancel\n",
    "    if event in (sg.WINDOW_CLOSED, \"Cancel\"):\n",
    "        break\n",
    "\n",
    "    # When Submit is clicked\n",
    "    if event == \"Submit\":\n",
    "        license_code = values['-LICENSE-']\n",
    "        \n",
    "        # Check if the input field is empty\n",
    "        if not license_code.strip():\n",
    "            sg.popup(\"Please enter a valid license code!\")\n",
    "        else:\n",
    "            sg.popup(f\"License Code Entered: {license_code}\")\n",
    "            # Perform your logic here (e.g., validation)\n",
    "            break  # Close after submitting\n",
    "\n",
    "window.close()\n"
   ]
  }
 ],
 "metadata": {
  "kernelspec": {
   "display_name": "generalenv",
   "language": "python",
   "name": "python3"
  },
  "language_info": {
   "codemirror_mode": {
    "name": "ipython",
    "version": 3
   },
   "file_extension": ".py",
   "mimetype": "text/x-python",
   "name": "python",
   "nbconvert_exporter": "python",
   "pygments_lexer": "ipython3",
   "version": "3.12.3"
  }
 },
 "nbformat": 4,
 "nbformat_minor": 2
}
